{
 "cells": [
  {
   "cell_type": "code",
   "execution_count": 12,
   "id": "7c06bd71",
   "metadata": {},
   "outputs": [
    {
     "data": {
      "text/plain": [
       "'LFM'"
      ]
     },
     "execution_count": 12,
     "metadata": {},
     "output_type": "execute_result"
    }
   ],
   "source": [
    "import sys\n",
    "import os\n",
    "p = os.path.join(\"LFM\")\n",
    "sys.path.append(p)\n",
    "\n",
    "p"
   ]
  },
  {
   "cell_type": "code",
   "execution_count": 14,
   "id": "05bbd12e",
   "metadata": {},
   "outputs": [],
   "source": [
    "from LFM.models import create_network"
   ]
  },
  {
   "cell_type": "code",
   "execution_count": null,
   "id": "f59ac2da",
   "metadata": {},
   "outputs": [],
   "source": []
  }
 ],
 "metadata": {
  "kernelspec": {
   "display_name": "Python 3",
   "language": "python",
   "name": "python3"
  },
  "language_info": {
   "codemirror_mode": {
    "name": "ipython",
    "version": 3
   },
   "file_extension": ".py",
   "mimetype": "text/x-python",
   "name": "python",
   "nbconvert_exporter": "python",
   "pygments_lexer": "ipython3",
   "version": "3.12.1"
  }
 },
 "nbformat": 4,
 "nbformat_minor": 5
}
